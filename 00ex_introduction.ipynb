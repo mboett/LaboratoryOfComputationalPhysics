{
 "cells": [
  {
   "cell_type": "markdown",
   "metadata": {},
   "source": [
    "1. The MickeyMouse problem\n",
    "\n",
    "a) Write a program that prints the numbers from 1 to 100. But for multiples of three print Mickey instead of the number and for the multiples of five print Mouse. For numbers which are multiples of both three and five print MickeyMouse\n",
    "\n",
    "b) Put the result in a tuple and substitute Mickey with Donald and Mouse with Duck"
   ]
  },
  {
   "cell_type": "code",
   "execution_count": 32,
   "metadata": {},
   "outputs": [
    {
     "name": "stdout",
     "output_type": "stream",
     "text": [
      "1\n",
      "2\n",
      "Mickey\n",
      "4\n",
      "Mouse\n",
      "Mickey\n",
      "7\n",
      "8\n",
      "Mickey\n",
      "Mouse\n",
      "11\n",
      "Mickey\n",
      "13\n",
      "14\n",
      "MickeyMouse\n",
      "16\n",
      "17\n",
      "Mickey\n",
      "19\n",
      "Mouse\n",
      "Mickey\n",
      "22\n",
      "23\n",
      "Mickey\n",
      "Mouse\n",
      "26\n",
      "Mickey\n",
      "28\n",
      "29\n",
      "MickeyMouse\n",
      "31\n",
      "32\n",
      "Mickey\n",
      "34\n",
      "Mouse\n",
      "Mickey\n",
      "37\n",
      "38\n",
      "Mickey\n",
      "Mouse\n",
      "41\n",
      "Mickey\n",
      "43\n",
      "44\n",
      "MickeyMouse\n",
      "46\n",
      "47\n",
      "Mickey\n",
      "49\n",
      "Mouse\n",
      "Mickey\n",
      "52\n",
      "53\n",
      "Mickey\n",
      "Mouse\n",
      "56\n",
      "Mickey\n",
      "58\n",
      "59\n",
      "MickeyMouse\n",
      "61\n",
      "62\n",
      "Mickey\n",
      "64\n",
      "Mouse\n",
      "Mickey\n",
      "67\n",
      "68\n",
      "Mickey\n",
      "Mouse\n",
      "71\n",
      "Mickey\n",
      "73\n",
      "74\n",
      "MickeyMouse\n",
      "76\n",
      "77\n",
      "Mickey\n",
      "79\n",
      "Mouse\n",
      "Mickey\n",
      "82\n",
      "83\n",
      "Mickey\n",
      "Mouse\n",
      "86\n",
      "Mickey\n",
      "88\n",
      "89\n",
      "MickeyMouse\n",
      "91\n",
      "92\n",
      "Mickey\n",
      "94\n",
      "Mouse\n",
      "Mickey\n",
      "97\n",
      "98\n",
      "Mickey\n",
      "Mouse\n",
      "[1, 2, 'Mickey', 4, 'Mouse', 'Mickey', 7, 8, 'Mickey', 'Mouse', 11, 'Mickey', 13, 14, 'MickeyMouse', 16, 17, 'Mickey', 19, 'Mouse', 'Mickey', 22, 23, 'Mickey', 'Mouse', 26, 'Mickey', 28, 29, 'MickeyMouse', 31, 32, 'Mickey', 34, 'Mouse', 'Mickey', 37, 38, 'Mickey', 'Mouse', 41, 'Mickey', 43, 44, 'MickeyMouse', 46, 47, 'Mickey', 49, 'Mouse', 'Mickey', 52, 53, 'Mickey', 'Mouse', 56, 'Mickey', 58, 59, 'MickeyMouse', 61, 62, 'Mickey', 64, 'Mouse', 'Mickey', 67, 68, 'Mickey', 'Mouse', 71, 'Mickey', 73, 74, 'MickeyMouse', 76, 77, 'Mickey', 79, 'Mouse', 'Mickey', 82, 83, 'Mickey', 'Mouse', 86, 'Mickey', 88, 89, 'MickeyMouse', 91, 92, 'Mickey', 94, 'Mouse', 'Mickey', 97, 98, 'Mickey', 'Mouse']\n",
      "[1, 2, 'Donald', 4, 'Duck', 'Donald', 7, 8, 'Donald', 'Duck', 11, 'Donald', 13, 14, 'DonaldDuck', 16, 17, 'Donald', 19, 'Duck', 'Donald', 22, 23, 'Donald', 'Duck', 26, 'Donald', 28, 29, 'DonaldDuck', 31, 32, 'Donald', 34, 'Duck', 'Donald', 37, 38, 'Donald', 'Duck', 41, 'Donald', 43, 44, 'DonaldDuck', 46, 47, 'Donald', 49, 'Duck', 'Donald', 52, 53, 'Donald', 'Duck', 56, 'Donald', 58, 59, 'DonaldDuck', 61, 62, 'Donald', 64, 'Duck', 'Donald', 67, 68, 'Donald', 'Duck', 71, 'Donald', 73, 74, 'DonaldDuck', 76, 77, 'Donald', 79, 'Duck', 'Donald', 82, 83, 'Donald', 'Duck', 86, 'Donald', 88, 89, 'DonaldDuck', 91, 92, 'Donald', 94, 'Duck', 'Donald', 97, 98, 'Donald', 'Duck']\n"
     ]
    }
   ],
   "source": [
    "n=\"Mickey\"\n",
    "s=\"Mouse\"\n",
    "fn=\"Donald\"\n",
    "fs=\"Duck\"\n",
    "disguisedList=[]\n",
    "finalList=[]\n",
    "\n",
    "for i in range(1,101):\n",
    "    if i%3==0:\n",
    "        if i%5==0:\n",
    "            disguisedList.append(n+s)\n",
    "            print(n+s)\n",
    "        else:\n",
    "            disguisedList.append(n)\n",
    "            print(n)\n",
    "    elif i%5==0:\n",
    "        disguisedList.append(s)\n",
    "        print(s)\n",
    "    else:\n",
    "        disguisedList.append(i)\n",
    "        print(i)\n",
    "print(disguisedList)\n",
    "\n",
    "for i in range(0,100):\n",
    "    if disguisedList[i]==n:\n",
    "        finalList.append(fn)\n",
    "    elif disguisedList[i]==s:\n",
    "        finalList.append(fs)\n",
    "    elif disguisedList[i]==(n+s):\n",
    "        finalList.append(fn+fs)\n",
    "    else:\n",
    "        finalList.append(disguisedList[i])\n",
    "print(finalList)\n",
    "        "
   ]
  },
  {
   "cell_type": "markdown",
   "metadata": {},
   "source": [
    "2\\. The swap function\n",
    "\n",
    "Write a function that swap the values of two input variables x and y (whatever the type). Try to do that also without a temporary variable"
   ]
  },
  {
   "cell_type": "code",
   "execution_count": 1,
   "metadata": {},
   "outputs": [
    {
     "name": "stdout",
     "output_type": "stream",
     "text": [
      "a=4\n",
      "b=3\n",
      "\n",
      "\n",
      "a=3\n",
      "b=4\n"
     ]
    }
   ],
   "source": [
    "def swap(x,y):\n",
    "    return (y,x)\n",
    "a=input(\"a=\")\n",
    "b=input(\"b=\")\n",
    "\n",
    "(a,b)=swap(a,b)\n",
    "\n",
    "print(\"\\n\")\n",
    "print(\"a=\"+str(a))\n",
    "print(\"b=\"+str(b))\n",
    "\n"
   ]
  },
  {
   "cell_type": "markdown",
   "metadata": {},
   "source": [
    "3\\. Computing the distance\n",
    "\n",
    "Write a function that calculates and returns the euclidean distance between two points *u* and *v*, where *u* and *v* are both 2-tuples *(x,y)*. For example, if *u=(3,0)* and *v=(0,4)*, the function should return 5"
   ]
  },
  {
   "cell_type": "code",
   "execution_count": 49,
   "metadata": {},
   "outputs": [
    {
     "name": "stdout",
     "output_type": "stream",
     "text": [
      "x1=2\n",
      "y1=0\n",
      "x2=0\n",
      "y2=0\n",
      "2.0\n"
     ]
    }
   ],
   "source": [
    "def euDist(x1, y1, x2, y2):\n",
    "    d=((x1-x2)**2+(y1-y2)**2)**(1/2)\n",
    "    return d;\n",
    "\n",
    "P1=(int(input(\"x1=\")), int(input(\"y1=\")))\n",
    "P2=(int(input(\"x2=\")), int(input(\"y2=\")))\n",
    "\n",
    "print(euDist(P1[0], P1[1],P2[0], P2[1]))"
   ]
  },
  {
   "cell_type": "markdown",
   "metadata": {},
   "source": [
    "4\\. Counting letters\n",
    "\n",
    "Write a program to calculate the number of times each character occurs in a given string *s*. Ignore differneces in capitalization"
   ]
  },
  {
   "cell_type": "code",
   "execution_count": 2,
   "metadata": {},
   "outputs": [],
   "source": [
    "s=\"Write a program that prints the numbers from 1 to 100. \\\n",
    "But for multiples of three print Mickey instead of the number and for the multiples of five print Mouse. \\\n",
    "For numbers which are multiples of both three and five print MickeyMouse\""
   ]
  },
  {
   "cell_type": "code",
   "execution_count": 27,
   "metadata": {},
   "outputs": [
    {
     "name": "stdout",
     "output_type": "stream",
     "text": [
      "mickey\n",
      "2\n",
      "Write a program that prints the numbers from 1 to 100. But for multiples of three print Mickey instead of the number and for the multiples of five print Mouse. For numbers which are multiples of both three and five print MickeyMouse\n"
     ]
    }
   ],
   "source": [
    "find=input()\n",
    "num=s.lower().count(find.lower())\n",
    "\n",
    "print(num)\n",
    "print(s)\n",
    "\n",
    "    \n"
   ]
  },
  {
   "cell_type": "markdown",
   "metadata": {},
   "source": [
    "5\\. Isolating the unique\n",
    "\n",
    "Write a function that determines and count the unique numbers in the list *l*"
   ]
  },
  {
   "cell_type": "code",
   "execution_count": 29,
   "metadata": {},
   "outputs": [],
   "source": [
    "l = [36, 45, 58, 3, 74, 96, 64, 45, 31, 10, 24, 19, 33, 86, 99, 18, 63, 70, 85,\n",
    " 85, 63, 47, 56, 42, 70, 84, 88, 55, 20, 54, 8, 56, 51, 79, 81, 57, 37, 91,\n",
    " 1, 84, 84, 36, 66, 9, 89, 50, 42, 91, 50, 95, 90, 98, 39, 16, 82, 31, 92, 41,\n",
    " 45, 30, 66, 70, 34, 85, 94, 5, 3, 36, 72, 91, 84, 34, 87, 75, 53, 51, 20, 89, 51, 20]"
   ]
  },
  {
   "cell_type": "code",
   "execution_count": 42,
   "metadata": {},
   "outputs": [
    {
     "name": "stdout",
     "output_type": "stream",
     "text": [
      "1  occurency:  1\n",
      "3  occurency:  2\n",
      "5  occurency:  1\n",
      "8  occurency:  1\n",
      "9  occurency:  1\n",
      "10  occurency:  1\n",
      "16  occurency:  1\n",
      "18  occurency:  1\n",
      "19  occurency:  1\n",
      "20  occurency:  3\n",
      "24  occurency:  1\n",
      "30  occurency:  1\n",
      "31  occurency:  2\n",
      "33  occurency:  1\n",
      "34  occurency:  2\n",
      "36  occurency:  3\n",
      "37  occurency:  1\n",
      "39  occurency:  1\n",
      "41  occurency:  1\n",
      "42  occurency:  2\n",
      "45  occurency:  3\n",
      "47  occurency:  1\n",
      "50  occurency:  2\n",
      "51  occurency:  3\n",
      "53  occurency:  1\n",
      "54  occurency:  1\n",
      "55  occurency:  1\n",
      "56  occurency:  2\n",
      "57  occurency:  1\n",
      "58  occurency:  1\n",
      "63  occurency:  2\n",
      "64  occurency:  1\n",
      "66  occurency:  2\n",
      "70  occurency:  3\n",
      "72  occurency:  1\n",
      "74  occurency:  1\n",
      "75  occurency:  1\n",
      "79  occurency:  1\n",
      "81  occurency:  1\n",
      "82  occurency:  1\n",
      "84  occurency:  4\n",
      "85  occurency:  3\n",
      "86  occurency:  1\n",
      "87  occurency:  1\n",
      "88  occurency:  1\n",
      "89  occurency:  2\n",
      "90  occurency:  1\n",
      "91  occurency:  3\n",
      "92  occurency:  1\n",
      "94  occurency:  1\n",
      "95  occurency:  1\n",
      "96  occurency:  1\n",
      "98  occurency:  1\n",
      "99  occurency:  1\n"
     ]
    }
   ],
   "source": [
    "sortl=l\n",
    "sortl.sort()\n",
    "results=[]\n",
    "N=len(sortl)\n",
    "c=1\n",
    "for i in range(N):\n",
    "    if i!=(N-1):\n",
    "        if sortl[i]==sortl[i+1]:\n",
    "            c+=1\n",
    "        else:\n",
    "            print(sortl[i],\" occurency: \",c)\n",
    "            c=1\n",
    "    else:\n",
    "        print(sortl[i],\" occurency: \",c)\n",
    "    \n",
    "    "
   ]
  },
  {
   "cell_type": "markdown",
   "metadata": {},
   "source": [
    "6\\. Combination of functions\n",
    "\n",
    "Write two functions - one that returns the square of a number, and one that returns the cube. Now write a third function that returns the number raised to the 6th power using the two previous functions."
   ]
  },
  {
   "cell_type": "code",
   "execution_count": 43,
   "metadata": {},
   "outputs": [
    {
     "name": "stdout",
     "output_type": "stream",
     "text": [
      "9\n",
      "27\n",
      "729\n"
     ]
    }
   ],
   "source": [
    "def square(x):\n",
    "    return(x*x)\n",
    "\n",
    "def cube(x):\n",
    "    return(square(x)*x)\n",
    "\n",
    "def power6(x):\n",
    "    return(cube(square(x)))\n",
    "\n",
    "print(square(3))\n",
    "print(cube(3))\n",
    "print(power6(3))"
   ]
  },
  {
   "cell_type": "markdown",
   "metadata": {},
   "source": [
    "7\\. Cubes\n",
    "\n",
    "Create a list of the cubes of x for x in *[0, 10]* using:\n",
    "\n",
    "a) a for loop\n",
    "\n",
    "b) a list comprehension"
   ]
  },
  {
   "cell_type": "code",
   "execution_count": 46,
   "metadata": {},
   "outputs": [
    {
     "name": "stdout",
     "output_type": "stream",
     "text": [
      "0\n",
      "1\n",
      "8\n",
      "27\n",
      "64\n",
      "125\n",
      "216\n",
      "343\n",
      "512\n",
      "729\n",
      "1000\n",
      "[0, 1, 8, 27, 64, 125, 216, 343, 512, 729, 1000]\n"
     ]
    }
   ],
   "source": [
    "for x in range(11):\n",
    "    print(cube(x))\n",
    "\n",
    "print([cube(x) for x in range(11)])\n"
   ]
  },
  {
   "cell_type": "markdown",
   "metadata": {},
   "source": [
    "8\\. Nested list comprehension\n",
    "\n",
    "A Pythagorean triple is an integer solution to the Pythagorean theorem $a^2+b^2=c^2$. The first Pythagorean triple is (3,4,5). Find and put in a tuple all unique Pythagorean triples for the positive integers a, b and c less than 100."
   ]
  },
  {
   "cell_type": "code",
   "execution_count": 63,
   "metadata": {},
   "outputs": [
    {
     "name": "stdout",
     "output_type": "stream",
     "text": [
      "3 4 5\n",
      "5 12 13\n",
      "6 8 10\n",
      "7 24 25\n",
      "8 15 17\n",
      "9 12 15\n",
      "10 24 26\n",
      "11 60 61\n",
      "12 16 20\n",
      "13 84 85\n",
      "14 48 50\n",
      "15 20 25\n",
      "16 30 34\n",
      "18 24 30\n",
      "20 21 29\n",
      "21 28 35\n",
      "24 32 40\n",
      "25 60 65\n",
      "27 36 45\n",
      "28 45 53\n",
      "30 40 50\n",
      "32 60 68\n",
      "33 44 55\n",
      "35 84 91\n",
      "36 48 60\n",
      "39 52 65\n",
      "40 42 58\n",
      "42 56 70\n",
      "45 60 75\n",
      "48 55 73\n",
      "51 68 85\n",
      "54 72 90\n",
      "57 76 95\n",
      "60 63 87\n",
      "65 72 97\n"
     ]
    }
   ],
   "source": [
    "for x in range(1,100):\n",
    "    for y in range(x+1,100):\n",
    "        a=square(x)\n",
    "        b=square(y)\n",
    "        c=a+b\n",
    "        c=c**(1/2)\n",
    "        if c==int(c) and c<100:\n",
    "            print(x, y, int(c))\n",
    "            break\n",
    "        \n",
    "        "
   ]
  },
  {
   "cell_type": "markdown",
   "metadata": {},
   "source": [
    "9\\. Normalization\n",
    "\n",
    "Write a function that takes a tuple of numbers and returns it with the entries normalized to one"
   ]
  },
  {
   "cell_type": "code",
   "execution_count": 69,
   "metadata": {},
   "outputs": [
    {
     "name": "stdout",
     "output_type": "stream",
     "text": [
      "[1, 4, 7, 10, 13, 16, 19, 22, 25, 28, 31, 34, 37, 40, 43, 46, 49, 52, 55, 58, 61, 64, 67, 70, 73, 76, 79, 82, 85, 88, 91, 94, 97]\n",
      "[1.0, 1.0, 1.0, 1.0, 1.0, 1.0, 1.0, 1.0, 1.0, 1.0, 1.0, 1.0, 1.0, 1.0, 1.0, 1.0, 1.0, 1.0, 1.0, 1.0, 1.0, 1.0, 1.0, 1.0, 1.0, 1.0, 1.0, 1.0, 1.0, 1.0, 1.0, 1.0, 1.0]\n"
     ]
    }
   ],
   "source": [
    "num=[x for x in range(1,100,3)]\n",
    "print(num)\n",
    "for x in range(len(num)):\n",
    "    num[x]=num[x]/num[x]\n",
    "print(num)"
   ]
  },
  {
   "cell_type": "code",
   "execution_count": null,
   "metadata": {},
   "outputs": [],
   "source": []
  }
 ],
 "metadata": {
  "kernelspec": {
   "display_name": "Python 3",
   "language": "python",
   "name": "python3"
  },
  "language_info": {
   "codemirror_mode": {
    "name": "ipython",
    "version": 3
   },
   "file_extension": ".py",
   "mimetype": "text/x-python",
   "name": "python",
   "nbconvert_exporter": "python",
   "pygments_lexer": "ipython3",
   "version": "3.7.0"
  }
 },
 "nbformat": 4,
 "nbformat_minor": 2
}
