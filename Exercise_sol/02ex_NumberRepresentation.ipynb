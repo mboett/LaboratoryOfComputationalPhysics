{
 "cells": [
  {
   "cell_type": "markdown",
   "metadata": {},
   "source": [
    "1\\. Write a function that converts number representation (bin<->dec<->hex)"
   ]
  },
  {
   "cell_type": "code",
   "execution_count": 1,
   "metadata": {},
   "outputs": [
    {
     "name": "stdout",
     "output_type": "stream",
     "text": [
      "Insert number: 1\n",
      "Bin: 0b1 Dec: 1 Hex: 0x1\n"
     ]
    }
   ],
   "source": [
    "#Convert from bin to dec\n",
    "def convDecB(b):\n",
    "    s=0\n",
    "    c=2**(len(b)-1)\n",
    "    for i in b:\n",
    "        s+=(int(i)*c)\n",
    "        c/=2\n",
    "    return str(int(s))\n",
    "\n",
    "#Convert from hex to dec\n",
    "def convDecH(h):\n",
    "    v=[\"0\",\"1\",\"2\",\"3\",\"4\",\"5\",\"6\",\"7\",\"8\",\"9\",\"a\",\"b\",\"c\",\"d\",\"e\",\"f\"]\n",
    "    s=0\n",
    "    c=16**(len(h)-1)\n",
    "    for i in h.lower():\n",
    "        s+=v.index(i)*c\n",
    "        c/=16\n",
    "    return str(int(s))\n",
    "\n",
    "#Convert from dec to bin\n",
    "def convBin(d):\n",
    "    s=str()\n",
    "    n=int(d)\n",
    "    if n==0:\n",
    "        s=\"0\"\n",
    "    while n>0:\n",
    "        if bool(n%2):\n",
    "            s=\"1\"+s\n",
    "        else:\n",
    "            s=\"0\"+s\n",
    "        n=int(n/2)\n",
    "    return s\n",
    "\n",
    "#Convert from bin to hex\n",
    "def convHex(b):\n",
    "    v=[\"0\",\"1\",\"2\",\"3\",\"4\",\"5\",\"6\",\"7\",\"8\",\"9\",\"a\",\"b\",\"c\",\"d\",\"e\",\"f\"]\n",
    "    n=b\n",
    "    s=str()\n",
    "    while bool(len(n)%4):\n",
    "        n=\"0\"+n\n",
    "    for i in range(0,len(n),4):\n",
    "        s+=v[int(convDecB(n[i:(i+4)]))]\n",
    "                     \n",
    "    return s\n",
    "\n",
    "#General convertion function\n",
    "def conv(x):\n",
    "    if x[0:2].lower()==\"0b\":\n",
    "        b=x[2:]\n",
    "        d=convDecB(b)\n",
    "        h=convHex(b)\n",
    "    elif x[0:2].lower()==\"0x\":\n",
    "        h=x[2:]\n",
    "        d=convDecH(h)\n",
    "        b=convBin(d)\n",
    "    else:\n",
    "        d=x\n",
    "        b=convBin(d)\n",
    "        h=convHex(b)\n",
    "    print(\"Bin:\",\"0b\"+b,\"Dec:\",d,\"Hex:\",\"0x\"+h.lower())\n",
    "    return\n",
    "\n",
    "\n",
    "conv(input(\"Insert number: \"))\n"
   ]
  },
  {
   "cell_type": "markdown",
   "metadata": {},
   "source": [
    "2\\. Write a function that converts a 32 bit word into a single precision floating point (i.e. interprets the various bits as sign, mantissa and exponent)"
   ]
  },
  {
   "cell_type": "code",
   "execution_count": 2,
   "metadata": {},
   "outputs": [
    {
     "name": "stdout",
     "output_type": "stream",
     "text": [
      "Insert 32 bit: 10101010101010101010101010101010\n",
      "Sign: -1\n",
      "Mantissa: 1.3333332538604736\n",
      "Exponent: 85\n",
      "Number: -3.0316488252093987e-13\n"
     ]
    }
   ],
   "source": [
    "# Convert from bit string to dec numbers string\n",
    "def convDecB(b):\n",
    "    s=0\n",
    "    c=2**(len(b)-1)\n",
    "    for i in b:\n",
    "        s+=(int(i)*c)\n",
    "        c/=2\n",
    "    return str(int(s))\n",
    "\n",
    "# Insert 32 bit word\n",
    "fbit = input(\"Insert 32 bit: \")\n",
    "\n",
    "# Calculate sign\n",
    "s = int(fbit[0])\n",
    "print('Sign:', (-1)**s)\n",
    "\n",
    "# Calculate mantissa\n",
    "mant = 1\n",
    "c= 1\n",
    "for i in fbit[9:]:\n",
    "    mant = mant+int(i)*2**(-c)\n",
    "    c = c+1\n",
    "print('Mantissa:', mant)\n",
    "\n",
    "# Calculate exponent\n",
    "exp = int(convDecB(fbit[1:9]))\n",
    "print('Exponent:', exp)\n",
    "bias = 127\n",
    "\n",
    "# Calculate output\n",
    "num = ((-1)**s)*mant*2**(exp-bias)\n",
    "print('Number:', num)"
   ]
  },
  {
   "cell_type": "markdown",
   "metadata": {},
   "source": [
    "3\\. Write a program to determine the underflow and overflow limits (within a factor of 2) for python on your computer. \n",
    "\n",
    "**Tips**: define two variables inizialized to 1 and halve/double them enough time to exceed the under/over-flow limits  "
   ]
  },
  {
   "cell_type": "code",
   "execution_count": 3,
   "metadata": {},
   "outputs": [
    {
     "name": "stdout",
     "output_type": "stream",
     "text": [
      "Underflow limit: 5e-324\n",
      "Overflow limit: 8.98846567431158e+307\n"
     ]
    }
   ],
   "source": [
    "# Calculate underflow limit\n",
    "underLim = 1.0\n",
    "while underLim/2 > 0:\n",
    "    underLim = underLim/2\n",
    "print('Underflow limit:', underLim)\n",
    "\n",
    "# Calculate overflow limit\n",
    "upperLim = 1.0\n",
    "while upperLim*2 < float('inf'):\n",
    "    upperLim =upperLim*2\n",
    "print('Overflow limit:', upperLim)"
   ]
  },
  {
   "cell_type": "markdown",
   "metadata": {},
   "source": [
    "4\\. Write a program to determine the machine precision\n",
    "\n",
    "**Tips**: define a new variable by adding a smaller and smaller value (proceeding similarly to prob. 2) to an original variable and check the point where the two are the same "
   ]
  },
  {
   "cell_type": "code",
   "execution_count": 4,
   "metadata": {},
   "outputs": [
    {
     "name": "stdout",
     "output_type": "stream",
     "text": [
      "Precision: 1e-15\n"
     ]
    }
   ],
   "source": [
    "value = 1.0\n",
    "i = 0.0\n",
    "\n",
    "#Slowly decrease the added value\n",
    "while value != value+(10**-i):\n",
    "    i = i+1\n",
    "    \n",
    "print('Precision:', 10**-(i-1))"
   ]
  },
  {
   "cell_type": "markdown",
   "metadata": {},
   "source": [
    "5\\. Write a function that takes in input three parameters $a$, $b$ and $c$ and prints out the two solutions to the quadratic equation $ax^2+bx+c=0$ using the standard formula:\n",
    "$$\n",
    "x=\\frac{-b\\pm\\sqrt{b^2-4ac}}{2a}\n",
    "$$\n",
    "\n",
    "(a) use the program to compute the solution for $a=0.001$, $b=1000$ and $c=0.001$\n",
    "\n",
    "(b) re-express the standard solution formula by multiplying top and bottom by $-b\\mp\\sqrt{b^2-4ac}$ and again find the solution for $a=0.001$, $b=1000$ and $c=0.001$. How does it compare with what previously obtained? Why?\n",
    "\n",
    "(c) write a function that compute the roots of a quadratic equation accurately in all cases"
   ]
  },
  {
   "cell_type": "code",
   "execution_count": 5,
   "metadata": {},
   "outputs": [
    {
     "name": "stdout",
     "output_type": "stream",
     "text": [
      "True solution: (-1e-06, 1000000)\n",
      "\n",
      "Function a: (-9.999894245993346e-07, -999999.999999)\n",
      "Function b: (-1.0000000000009999e-06, -1000022.1222095027)\n",
      "\n",
      "The first function is more precise in calculating x2, while the second function in calculating x1. The reason is that probably Python fails when computing operation between numbers that differ too much.\n",
      "\n",
      "Function c: (-1.0000000000009999e-06, -1000022.1222095027)\n"
     ]
    }
   ],
   "source": [
    "#Calculator's solution\n",
    "print('True solution:', (-1e-06, 1000000))\n",
    "\n",
    "#Method a\n",
    "def sol1(a, b, c):\n",
    "    x1 = (-b+((b**2)-4*a*c)**(1/2))/(2*a)\n",
    "    x2 = (-b-((b**2)-4*a*c)**(1/2))/(2*a)\n",
    "    return (x1, x2)\n",
    "\n",
    "print('\\nFunction a:', sol1(0.001, 1000, 0.001))\n",
    "\n",
    "#Method b\n",
    "def sol2(a, b, c):\n",
    "    x1 = (-4*a*c)/(2*a*b+2*a*(b**2-4*a*c)**(1/2))\n",
    "    x2 = (4*a*c)/(-2*a*b+2*a*(b**2-4*a*c)**(1/2)) \n",
    "    return (x1, x2)\n",
    "\n",
    "print('Function b:', sol2(0.001, 1000, 0.001))\n",
    "print('\\nThe first function is more precise in calculating x2, while the second function in calculating x1. The reason is that probably Python fails when computing operation between numbers that differ too much.')\n",
    "\n",
    "#Method c\n",
    "def sol3(a,b,c):\n",
    "    x1=-b/(2*a)+(b**2/(4*a**2)-c/a)**(1/2)\n",
    "    x2=-b/(2*a)-(b**2/(4*a**2)-c/a)**(1/2)\n",
    "    return x1, x2 \n",
    "\n",
    "print('\\nFunction c:', sol2(0.001, 1000, 0.001))"
   ]
  },
  {
   "cell_type": "markdown",
   "metadata": {},
   "source": [
    "6\\. Write a program that implements the function $f(x)=x(x−1)$\n",
    "\n",
    "(a) Calculate the derivative of the function at the point $x = 1$ using the derivative definition:\n",
    "\n",
    "$$\n",
    "\\frac{{\\rm d}f}{{\\rm d}x} = \\lim_{\\delta\\to0} \\frac{f(x+\\delta)-f(x)}{\\delta}\n",
    "$$\n",
    "\n",
    "with $\\delta = 10^{−2}$. Calculate the true value of the same derivative analytically and compare with the answer your program gives. The two will not agree perfectly. Why not?\n",
    "\n",
    "(b) Repeat the calculation for $\\delta = 10^{−4}, 10^{−6}, 10^{−8}, 10^{−10}, 10^{−12}$ and $10^{−14}$. How does the accuracy scales with $\\delta$?"
   ]
  },
  {
   "cell_type": "code",
   "execution_count": 6,
   "metadata": {},
   "outputs": [
    {
     "name": "stdout",
     "output_type": "stream",
     "text": [
      "df(0): -1\n",
      "Delta = 0.01 : -0.9900000000000001\n",
      "Delta = 0.0001 : -0.9999\n",
      "Delta = 1e-06 : -0.999999\n",
      "Delta = 1e-08 : -0.99999999\n",
      "Delta = 1e-10 : -0.9999999999\n",
      "Delta = 1e-12 : -0.9999999999989999\n",
      "Delta = 1e-14 : -0.99999999999999\n",
      "The results are not equal because the used method is an approximation of the analytical one.\n",
      "It seems that the accuracy increases 'till 10**-12, then decreases.\n"
     ]
    }
   ],
   "source": [
    "import numpy as np\n",
    "import matplotlib.pyplot as plt\n",
    "\n",
    "#Original function\n",
    "def f(x):\n",
    "    return x*(x-1)\n",
    "\n",
    "#Analytical method\n",
    "def df(x):\n",
    "    return (x-1)+x\n",
    "\n",
    "#Derivative definition method\n",
    "def limdf(x, d):\n",
    "    return (f(x+d)-f(x))/d\n",
    "\n",
    "#Initial delta\n",
    "delta = 10**-2\n",
    "\n",
    "print('df(0):',df(0))\n",
    "print('Delta =', delta, ':', limdf(0, delta))\n",
    "\n",
    "#Try with the other delta\n",
    "for i in range(4,15,2):\n",
    "    print('Delta =', 10**-i, ':', limdf(0, 10**-i))\n",
    "    \n",
    "print(\"The results are not equal because the used method is an approximation of the analytical one.\")\n",
    "print(\"It seems that the accuracy increases 'till 10**-12, then decreases.\")"
   ]
  },
  {
   "cell_type": "markdown",
   "metadata": {},
   "source": [
    "7\\. Consider the integral of the semicircle of radius 1:\n",
    "$$\n",
    "I=\\int_{-1}^{1} \\sqrt(1-x^2) {\\rm d}x\n",
    "$$\n",
    "which it's known to be $I=\\frac{\\pi}{2}=1.57079632679...$.\n",
    "Alternatively we can use the Riemann definition of the integral:\n",
    "$$\n",
    "I=\\lim_{N\\to\\infty} \\sum_{k=1}^{N} h y_k \n",
    "$$\n",
    "\n",
    "with $h=2/N$ the width of each of the $N$ slices the domain is divided into and where\n",
    "$y_k$ is the value of the function at the $k-$th slice.\n",
    "\n",
    "(a) Write a programe to compute the integral with $N=100$. How does the result compares to the true value?\n",
    "\n",
    "(b) How much can $N$ be increased if the computation needs to be run in less than a second? What is the gain in running it for 1 minute? \n"
   ]
  },
  {
   "cell_type": "code",
   "execution_count": 7,
   "metadata": {},
   "outputs": [
    {
     "name": "stdout",
     "output_type": "stream",
     "text": [
      "True result: 1.5707963267948966\n",
      "Approximated result N = 100 : 1.5534179294048955\n",
      "Running time: 0.8390481472015381\n",
      "Approximated result N = 620000 : 1.5707937898458824\n",
      "Increased accuracy: 0.017375860440986823\n",
      "Running time: 63.95365786552429\n",
      "Running time: 63.95365786552429\n",
      "Approximated result N = 41000000 : 1.5707962884761875\n",
      "Increased accuracy: 0.017378359071291927\n"
     ]
    }
   ],
   "source": [
    "import time\n",
    "\n",
    "import math\n",
    "import numpy as np\n",
    "import matplotlib.pyplot as plt\n",
    "\n",
    "def f(x):\n",
    "    return (1-x**2)**(1/2)\n",
    "\n",
    "pi = math.pi\n",
    "trueI = pi/2\n",
    "\n",
    "\n",
    "#N=100 method\n",
    "N = 100\n",
    "h = 2/N\n",
    "x = np.linspace(-1, 1, N)\n",
    "I = 0\n",
    "for k in range(N):\n",
    "    I = I+h*f(x[k])\n",
    "\n",
    "print('True result:', trueI)\n",
    "print('Approximated result N = 100 :', I)\n",
    "\n",
    "#Less than a second method\n",
    "N = 620000\n",
    "h = 2/N\n",
    "x = np.linspace(-1, 1, N)\n",
    "Isec = 0\n",
    "temp = time.time()\n",
    "for k in range(N):\n",
    "    Isec = Isec+h*f(x[k])\n",
    "    \n",
    "#Sometimes the running time is over one second even with the chosen N, it depends from time to time\n",
    "print('Running time:',time.time()-temp)\n",
    "print('Approximated result N =',N,':', Isec)\n",
    "print('Increased accuracy:', Isec-I)\n",
    "\n",
    "#Less than a minute method\n",
    "N = 41000000\n",
    "h = 2/N\n",
    "x = np.linspace(-1, 1, N)\n",
    "Imin = 0\n",
    "temp = time.time()\n",
    "for k in range(N):\n",
    "    Imin = Imin+h*f(x[k])\n",
    "    \n",
    "#Sometimes the running time is over one minute even with the chosen N, it depends from time to time\n",
    "print('Running time:',time.time()-temp)\n",
    "print('Running time:',time.time()-temp)\n",
    "print('Approximated result N =', N, ':', Imin)\n",
    "print('Increased accuracy:', Imin-I)"
   ]
  },
  {
   "cell_type": "code",
   "execution_count": null,
   "metadata": {},
   "outputs": [],
   "source": []
  }
 ],
 "metadata": {
  "kernelspec": {
   "display_name": "Python 3",
   "language": "python",
   "name": "python3"
  },
  "language_info": {
   "codemirror_mode": {
    "name": "ipython",
    "version": 3
   },
   "file_extension": ".py",
   "mimetype": "text/x-python",
   "name": "python",
   "nbconvert_exporter": "python",
   "pygments_lexer": "ipython3",
   "version": "3.7.2"
  }
 },
 "nbformat": 4,
 "nbformat_minor": 2
}
