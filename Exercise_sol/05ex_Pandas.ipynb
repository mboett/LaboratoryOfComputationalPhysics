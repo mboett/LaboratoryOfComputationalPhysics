{
 "cells": [
  {
   "cell_type": "markdown",
   "metadata": {},
   "source": [
    "## Pandas analysis\n",
    "\n",
    "In the following a series of exercises is proposed on a dataset containg timing information from a series of Time-to-Digital-Converters (TDC) implemented in a couple of FPGA's. Each measurement (i.e. each raw) consists of the address of the TDC providing the signal, 'FPGA' and 'TDC_Channel, and the timing information itself, 'ORBIT_CNT', 'BX_COUNTER' and 'TDC_MEAS'. Each TDC count correspond 25/30 ns, whereas the BX_COUNTER feauters gets updated every 25 ns and the ORBIT_CNT every 'x' BX_COUNTER. You can see these way of storing the time as similar to hours, minutes and seconds.\n",
    "\n",
    "1\\. Create a Pandas DataFrame by read N raws of the 'data_000637.txt' dataset. Choose N to be smaller than or equal to the maximum number of raws and larger that 10k.\n",
    "\n",
    "2\\. Find out the value of 'x'\n",
    "\n",
    "3\\. Find out how much the data taking lasted. You can either make an estimate on the baseis of the fraction of the measurements (raws) you read, or perform this check precisely by reading out the whole dataset\n",
    "\n",
    "4\\. Create a new column with the actual time in ns (as a combination of the other three columns with timing information)\n",
    "\n",
    "5\\. Replace the values (all 1) of the HEAD column randomly with 0 or 1\n",
    "\n",
    "6\\. Create a new DataFrame with only the raws with HEAD=1\n",
    "\n",
    "7\\. Make two occupancy plots (one per FPGA), i.e. plot the number of counts per TDC channel\n",
    "\n",
    "8\\. Use the groupby method to find out the noisy channels, i.e. the TDC channels with most counts (say the top 3)\n",
    "\n",
    "9\\. Count the number of unique orbits. Count the number of unique orbits with at least one measurement from TDC_CHANNEL=139"
   ]
  },
  {
   "cell_type": "code",
   "execution_count": 190,
   "metadata": {},
   "outputs": [],
   "source": [
    "import pandas as pd\n",
    "import numpy as np\n",
    "from matplotlib import pyplot as plt\n",
    "%matplotlib inline\n",
    "\n",
    "# 1) Create a Pandas DataFrame by read N raws of the 'data_000637.txt' dataset\n",
    "file_name=\"data_000636.txt\"\n",
    "data=pd.read_csv(file_name, nrows=10**5)\n"
   ]
  },
  {
   "cell_type": "code",
   "execution_count": 191,
   "metadata": {},
   "outputs": [
    {
     "name": "stdout",
     "output_type": "stream",
     "text": [
      "x  = 3564\n"
     ]
    }
   ],
   "source": [
    "# 2)Find out the value of 'x'\n",
    "# Assuming the dataset is big enough to show every possible value assumable by BX_COUNTER, 'x' is the highest value shown +1\n",
    "x = data['BX_COUNTER'].max()+1\n",
    "print('x  =', x)"
   ]
  },
  {
   "cell_type": "code",
   "execution_count": 192,
   "metadata": {},
   "outputs": [
    {
     "name": "stdout",
     "output_type": "stream",
     "text": [
      "Estimated duration: 88673750.8125 ns\n",
      "Effective duration: 88673750.8125 ns\n"
     ]
    }
   ],
   "source": [
    "# 3) Find out how much the data taking lasted\n",
    "# 4) Create a new column with the actual time in ns\n",
    "data['Time'] = data['TDC_MEAS']*25/30+data['BX_COUNTER']*25+data['ORBIT_CNT']*x*25\n",
    "est_dur = data['Time'].max()-data['Time'].min()\n",
    "print('Estimated duration:', est_dur, 'ns')\n",
    "\n",
    "file_name = \"data_000636.txt\"\n",
    "data_tot = pd.read_csv(file_name)\n",
    "real_time = data_tot['TDC_MEAS']*25/30+data_tot['BX_COUNTER']*25+data_tot['ORBIT_CNT']*x*25\n",
    "real_dur = real_time.max()-real_time.min()\n",
    "print('Effective duration:', est_dur, 'ns')"
   ]
  },
  {
   "cell_type": "code",
   "execution_count": 185,
   "metadata": {},
   "outputs": [
    {
     "name": "stdout",
     "output_type": "stream",
     "text": [
      "       HEAD  FPGA  TDC_CHANNEL   ORBIT_CNT  BX_COUNTER  TDC_MEAS          Time\n",
      "0         1     0           60  3869187117         788        15  3.447446e+14\n",
      "1         1     0           63  3869187117         787        23  3.447446e+14\n",
      "2         1     0           64  3869187117         786        12  3.447446e+14\n",
      "3         1     1            1  3869187117        1078        14  3.447446e+14\n",
      "4         1     0           27  3869187117        1080         9  3.447446e+14\n",
      "5         1     0           49  3869187117        1077         3  3.447446e+14\n",
      "6         1     1           11  3869187117        1078        19  3.447446e+14\n",
      "7         1     0          139  3869187117        1083         0  3.447446e+14\n",
      "8         1     0           32  3869187117        1081        27  3.447446e+14\n",
      "9         1     0           50  3869187117        1078        24  3.447446e+14\n",
      "10        1     1            3  3869187117        1083        16  3.447446e+14\n",
      "11        1     0           25  3869187117        1083        10  3.447446e+14\n",
      "12        1     0           47  3869187117        1088        16  3.447446e+14\n",
      "13        1     1            2  3869187117        1085        15  3.447446e+14\n",
      "14        1     0           50  3869187117        1083         6  3.447446e+14\n",
      "15        1     0           64  3869187117        1188        27  3.447446e+14\n",
      "16        1     1            7  3869187117        1190        26  3.447446e+14\n",
      "17        1     1           10  3869187117        1190         7  3.447446e+14\n",
      "18        1     0          139  3869187117        1199         0  3.447446e+14\n",
      "19        1     0           63  3869187117        1191        22  3.447446e+14\n",
      "20        1     0           58  3869187117        1197        13  3.447446e+14\n",
      "21        1     1            8  3869187117        1195        29  3.447446e+14\n",
      "22        1     0           61  3869187117        1195        21  3.447446e+14\n",
      "23        1     0           62  3869187117        1199        19  3.447446e+14\n",
      "24        1     0           60  3869187117        1220        25  3.447446e+14\n",
      "25        1     0           57  3869187117        1238        28  3.447446e+14\n",
      "26        1     0           58  3869187117        1240        27  3.447446e+14\n",
      "27        1     0          139  3869187117        1253         0  3.447446e+14\n",
      "28        1     0           58  3869187117        1246        19  3.447446e+14\n",
      "29        1     0           59  3869187117        1251         8  3.447446e+14\n",
      "...     ...   ...          ...         ...         ...       ...           ...\n",
      "99970     1     0           61  3869188112        1388        13  3.447447e+14\n",
      "99971     1     0           61  3869188112        1432        24  3.447447e+14\n",
      "99972     1     0           51  3869188112        1432        13  3.447447e+14\n",
      "99973     1     0           57  3869188112        1431        20  3.447447e+14\n",
      "99974     1     0          123  3869188112        1441        17  3.447447e+14\n",
      "99975     1     0           62  3869188112        1433        29  3.447447e+14\n",
      "99976     1     0          139  3869188112        1440         0  3.447447e+14\n",
      "99977     1     0           58  3869188112        1435        25  3.447447e+14\n",
      "99978     1     0           64  3869188112        1441        16  3.447447e+14\n",
      "99979     1     0           54  3869188112        1441        26  3.447447e+14\n",
      "99980     1     1           22  3869188112        1455         5  3.447447e+14\n",
      "99981     1     0           32  3869188112        1458         9  3.447447e+14\n",
      "99982     1     0           60  3869188112        1438        10  3.447447e+14\n",
      "99983     1     0           63  3869188112        1443         1  3.447447e+14\n",
      "99984     1     1           20  3869188112        1457         3  3.447447e+14\n",
      "99985     1     0           53  3869188112        1445         1  3.447447e+14\n",
      "99986     1     1            1  3869188112        1467         0  3.447447e+14\n",
      "99987     1     0           59  3869188112        1442         2  3.447447e+14\n",
      "99988     1     1           22  3869188112        1466        17  3.447447e+14\n",
      "99989     1     0           28  3869188112        1468         8  3.447447e+14\n",
      "99990     1     0           49  3869188112        1456         3  3.447447e+14\n",
      "99991     1     0           62  3869188112        1457        19  3.447447e+14\n",
      "99992     1     0           50  3869188112        1455        20  3.447447e+14\n",
      "99993     1     0           61  3869188112        1458        29  3.447447e+14\n",
      "99994     1     0           47  3869188112        1467        27  3.447447e+14\n",
      "99995     1     0           64  3869188112        1464        24  3.447447e+14\n",
      "99996     1     0           63  3869188112        1469         3  3.447447e+14\n",
      "99997     1     0           64  3869188112        1548        12  3.447447e+14\n",
      "99998     1     0           61  3869188112        1551        29  3.447447e+14\n",
      "99999     1     0           40  3869188112        1556        13  3.447447e+14\n",
      "\n",
      "[100000 rows x 7 columns]\n",
      "       HEAD  FPGA  TDC_CHANNEL   ORBIT_CNT  BX_COUNTER  TDC_MEAS          Time\n",
      "0         0     0           60  3869187117         788        15  3.447446e+14\n",
      "1         0     0           63  3869187117         787        23  3.447446e+14\n",
      "2         1     0           64  3869187117         786        12  3.447446e+14\n",
      "3         1     1            1  3869187117        1078        14  3.447446e+14\n",
      "4         0     0           27  3869187117        1080         9  3.447446e+14\n",
      "5         1     0           49  3869187117        1077         3  3.447446e+14\n",
      "6         0     1           11  3869187117        1078        19  3.447446e+14\n",
      "7         1     0          139  3869187117        1083         0  3.447446e+14\n",
      "8         0     0           32  3869187117        1081        27  3.447446e+14\n",
      "9         1     0           50  3869187117        1078        24  3.447446e+14\n",
      "10        1     1            3  3869187117        1083        16  3.447446e+14\n",
      "11        1     0           25  3869187117        1083        10  3.447446e+14\n",
      "12        0     0           47  3869187117        1088        16  3.447446e+14\n",
      "13        1     1            2  3869187117        1085        15  3.447446e+14\n",
      "14        1     0           50  3869187117        1083         6  3.447446e+14\n",
      "15        0     0           64  3869187117        1188        27  3.447446e+14\n",
      "16        0     1            7  3869187117        1190        26  3.447446e+14\n",
      "17        1     1           10  3869187117        1190         7  3.447446e+14\n",
      "18        0     0          139  3869187117        1199         0  3.447446e+14\n",
      "19        1     0           63  3869187117        1191        22  3.447446e+14\n",
      "20        0     0           58  3869187117        1197        13  3.447446e+14\n",
      "21        0     1            8  3869187117        1195        29  3.447446e+14\n",
      "22        0     0           61  3869187117        1195        21  3.447446e+14\n",
      "23        0     0           62  3869187117        1199        19  3.447446e+14\n",
      "24        1     0           60  3869187117        1220        25  3.447446e+14\n",
      "25        1     0           57  3869187117        1238        28  3.447446e+14\n",
      "26        0     0           58  3869187117        1240        27  3.447446e+14\n",
      "27        1     0          139  3869187117        1253         0  3.447446e+14\n",
      "28        0     0           58  3869187117        1246        19  3.447446e+14\n",
      "29        0     0           59  3869187117        1251         8  3.447446e+14\n",
      "...     ...   ...          ...         ...         ...       ...           ...\n",
      "99970     0     0           61  3869188112        1388        13  3.447447e+14\n",
      "99971     0     0           61  3869188112        1432        24  3.447447e+14\n",
      "99972     0     0           51  3869188112        1432        13  3.447447e+14\n",
      "99973     0     0           57  3869188112        1431        20  3.447447e+14\n",
      "99974     1     0          123  3869188112        1441        17  3.447447e+14\n",
      "99975     0     0           62  3869188112        1433        29  3.447447e+14\n",
      "99976     1     0          139  3869188112        1440         0  3.447447e+14\n",
      "99977     0     0           58  3869188112        1435        25  3.447447e+14\n",
      "99978     0     0           64  3869188112        1441        16  3.447447e+14\n",
      "99979     1     0           54  3869188112        1441        26  3.447447e+14\n",
      "99980     0     1           22  3869188112        1455         5  3.447447e+14\n",
      "99981     1     0           32  3869188112        1458         9  3.447447e+14\n",
      "99982     0     0           60  3869188112        1438        10  3.447447e+14\n",
      "99983     0     0           63  3869188112        1443         1  3.447447e+14\n",
      "99984     0     1           20  3869188112        1457         3  3.447447e+14\n",
      "99985     0     0           53  3869188112        1445         1  3.447447e+14\n",
      "99986     1     1            1  3869188112        1467         0  3.447447e+14\n",
      "99987     0     0           59  3869188112        1442         2  3.447447e+14\n",
      "99988     1     1           22  3869188112        1466        17  3.447447e+14\n",
      "99989     0     0           28  3869188112        1468         8  3.447447e+14\n",
      "99990     1     0           49  3869188112        1456         3  3.447447e+14\n",
      "99991     0     0           62  3869188112        1457        19  3.447447e+14\n",
      "99992     1     0           50  3869188112        1455        20  3.447447e+14\n",
      "99993     0     0           61  3869188112        1458        29  3.447447e+14\n",
      "99994     0     0           47  3869188112        1467        27  3.447447e+14\n",
      "99995     1     0           64  3869188112        1464        24  3.447447e+14\n",
      "99996     0     0           63  3869188112        1469         3  3.447447e+14\n",
      "99997     0     0           64  3869188112        1548        12  3.447447e+14\n",
      "99998     0     0           61  3869188112        1551        29  3.447447e+14\n",
      "99999     1     0           40  3869188112        1556        13  3.447447e+14\n",
      "\n",
      "[100000 rows x 7 columns]\n"
     ]
    }
   ],
   "source": [
    "# 5) Replace the values (all 1) of the HEAD column randomly with 0 or 1\n",
    "print(data)\n",
    "data['HEAD']=np.random.randint(2, size=(len(data), 1))\n",
    "print(data)"
   ]
  },
  {
   "cell_type": "code",
   "execution_count": 186,
   "metadata": {},
   "outputs": [
    {
     "name": "stdout",
     "output_type": "stream",
     "text": [
      "       HEAD  FPGA  TDC_CHANNEL   ORBIT_CNT  BX_COUNTER  TDC_MEAS          Time\n",
      "2         1     0           64  3869187117         786        12  3.447446e+14\n",
      "3         1     1            1  3869187117        1078        14  3.447446e+14\n",
      "5         1     0           49  3869187117        1077         3  3.447446e+14\n",
      "7         1     0          139  3869187117        1083         0  3.447446e+14\n",
      "9         1     0           50  3869187117        1078        24  3.447446e+14\n",
      "10        1     1            3  3869187117        1083        16  3.447446e+14\n",
      "11        1     0           25  3869187117        1083        10  3.447446e+14\n",
      "13        1     1            2  3869187117        1085        15  3.447446e+14\n",
      "14        1     0           50  3869187117        1083         6  3.447446e+14\n",
      "17        1     1           10  3869187117        1190         7  3.447446e+14\n",
      "19        1     0           63  3869187117        1191        22  3.447446e+14\n",
      "24        1     0           60  3869187117        1220        25  3.447446e+14\n",
      "25        1     0           57  3869187117        1238        28  3.447446e+14\n",
      "27        1     0          139  3869187117        1253         0  3.447446e+14\n",
      "30        1     0           75  3869187117        1421        22  3.447446e+14\n",
      "31        1     0           60  3869187117        1794         9  3.447446e+14\n",
      "34        1     1            1  3869187117        1897        29  3.447446e+14\n",
      "37        1     0          139  3869187117        1901         0  3.447446e+14\n",
      "42        1     0           63  3869187117        1897        19  3.447446e+14\n",
      "44        1     0           48  3869187117        1899        15  3.447446e+14\n",
      "46        1     0           53  3869187117        1894         7  3.447446e+14\n",
      "47        1     1           10  3869187117        1899        18  3.447446e+14\n",
      "48        1     0           56  3869187117        1902        21  3.447446e+14\n",
      "49        1     1           16  3869187117        1908        17  3.447446e+14\n",
      "54        1     0           54  3869187117        1905        26  3.447446e+14\n",
      "55        1     1           12  3869187117        1902         3  3.447446e+14\n",
      "56        1     0           57  3869187117        1903        19  3.447446e+14\n",
      "57        1     1           17  3869187117        1909         1  3.447446e+14\n",
      "58        1     0           61  3869187117        1896        23  3.447446e+14\n",
      "59        1     1           10  3869187117        1904        10  3.447446e+14\n",
      "...     ...   ...          ...         ...         ...       ...           ...\n",
      "99935     1     0           64  3869188111        2226        13  3.447447e+14\n",
      "99936     1     0           98  3869188111        2262         6  3.447447e+14\n",
      "99940     1     0           42  3869188111        2322        14  3.447447e+14\n",
      "99941     1     0           44  3869188111        2333        11  3.447447e+14\n",
      "99942     1     1            1  3869188111        2340        26  3.447447e+14\n",
      "99943     1     1           17  3869188111        2347        20  3.447447e+14\n",
      "99945     1     0          124  3869188111        2343        21  3.447447e+14\n",
      "99946     1     0           61  3869188111        2348         1  3.447447e+14\n",
      "99948     1     0           62  3869188111        2350         2  3.447447e+14\n",
      "99949     1     1           16  3869188111        2350        10  3.447447e+14\n",
      "99952     1     0           64  3869188111        2354         8  3.447447e+14\n",
      "99953     1     1           19  3869188111        2358        12  3.447447e+14\n",
      "99954     1     0           63  3869188111        2357         5  3.447447e+14\n",
      "99955     1     0          113  3869188111        2618         9  3.447447e+14\n",
      "99958     1     0          115  3869188111        2620        13  3.447447e+14\n",
      "99960     1     0            8  3869188111        2681        25  3.447447e+14\n",
      "99963     1     0            9  3869188111        2681         4  3.447447e+14\n",
      "99964     1     0           58  3869188111        2681         1  3.447447e+14\n",
      "99967     1     0           65  3869188112         908        16  3.447447e+14\n",
      "99969     1     1          116  3869188112        1141        19  3.447447e+14\n",
      "99974     1     0          123  3869188112        1441        17  3.447447e+14\n",
      "99976     1     0          139  3869188112        1440         0  3.447447e+14\n",
      "99979     1     0           54  3869188112        1441        26  3.447447e+14\n",
      "99981     1     0           32  3869188112        1458         9  3.447447e+14\n",
      "99986     1     1            1  3869188112        1467         0  3.447447e+14\n",
      "99988     1     1           22  3869188112        1466        17  3.447447e+14\n",
      "99990     1     0           49  3869188112        1456         3  3.447447e+14\n",
      "99992     1     0           50  3869188112        1455        20  3.447447e+14\n",
      "99995     1     0           64  3869188112        1464        24  3.447447e+14\n",
      "99999     1     0           40  3869188112        1556        13  3.447447e+14\n",
      "\n",
      "[49829 rows x 7 columns]\n"
     ]
    }
   ],
   "source": [
    "# 6) Create a new DataFrame with only the raws with HEAD=1\n",
    "new_data = data[data['HEAD']==1]\n",
    "print(new_data)"
   ]
  },
  {
   "cell_type": "code",
   "execution_count": 187,
   "metadata": {},
   "outputs": [
    {
     "data": {
      "image/png": "[encoded data removed]",
      "text/plain": [
       "<Figure size 720x360 with 1 Axes>"
      ]
     },
     "metadata": {
      "needs_background": "light"
     },
     "output_type": "display_data"
    }
   ],
   "source": [
    "# 7) Make two occupancy plots\n",
    "FPGA0 = new_data[new_data['FPGA']==0]\n",
    "FPGA1 = new_data[new_data['FPGA']==1]\n",
    "# They have the same min and max TDC_CHANNEL\n",
    "cMin = FPGA0['TDC_CHANNEL'].min()\n",
    "cMax = FPGA0['TDC_CHANNEL'].max()\n",
    "\n",
    "plt.figure(figsize=(10,5))\n",
    "plt.plot(FPGA0.groupby('TDC_CHANNEL')['HEAD'].sum().reindex(index=np.arange(cMin, cMax+1), fill_value=0))\n",
    "plt.plot(FPGA1.groupby('TDC_CHANNEL')['HEAD'].sum().reindex(index=np.arange(cMin, cMax+1), fill_value=0))\n",
    "plt.xlim(1)\n",
    "plt.xlabel('TDC_CHANNEL')\n",
    "plt.ylabel('# of counts')\n",
    "plt.legend(['FPGA=0','FPGA=1'])\n",
    "plt.show()\n"
   ]
  },
  {
   "cell_type": "code",
   "execution_count": 188,
   "metadata": {},
   "outputs": [
    {
     "name": "stdout",
     "output_type": "stream",
     "text": [
      "Top 3 noisiest channels with number of counts:\n",
      "\n",
      " TDC_CHANNEL\n",
      "139    4101\n",
      "63     2507\n",
      "64     2429\n",
      "Name: HEAD, dtype: int32\n"
     ]
    }
   ],
   "source": [
    "# 8) Use the groupby method to find out the noisy channels\n",
    "top_noise = new_data.groupby('TDC_CHANNEL').sum()\n",
    "\n",
    "top_noise = top_noise.sort_values(by='HEAD', ascending=False)['HEAD']\n",
    "print('Top 3 noisiest channels with number of counts:\\n\\n', top_noise.head(3))"
   ]
  },
  {
   "cell_type": "code",
   "execution_count": 189,
   "metadata": {},
   "outputs": [
    {
     "name": "stdout",
     "output_type": "stream",
     "text": [
      "Number of unique orbits: 995\n",
      "Number of unique orbits with at least one measurement from TDC_CHANNEL=139: 974\n"
     ]
    }
   ],
   "source": [
    "# 9) Count the number of unique orbits\n",
    "uONum = len(new_data.groupby('ORBIT_CNT').sum())\n",
    "print('Number of unique orbits:', uONum)\n",
    "\n",
    "uONum139 = len(new_data[new_data['TDC_CHANNEL']==139].groupby('ORBIT_CNT').sum())\n",
    "print('Number of unique orbits with at least one measurement from TDC_CHANNEL=139:', uONum139)"
   ]
  }
 ],
 "metadata": {
  "kernelspec": {
   "display_name": "Python 3",
   "language": "python",
   "name": "python3"
  },
  "language_info": {
   "codemirror_mode": {
    "name": "ipython",
    "version": 3
   },
   "file_extension": ".py",
   "mimetype": "text/x-python",
   "name": "python",
   "nbconvert_exporter": "python",
   "pygments_lexer": "ipython3",
   "version": "3.7.2"
  }
 },
 "nbformat": 4,
 "nbformat_minor": 2
}
