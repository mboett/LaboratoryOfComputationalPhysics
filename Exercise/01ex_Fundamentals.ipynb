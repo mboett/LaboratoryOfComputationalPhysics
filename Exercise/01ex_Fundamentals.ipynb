{
 "cells": [
  {
   "cell_type": "markdown",
   "metadata": {},
   "source": [
    "1\\. Write the following as a list comprehension"
   ]
  },
  {
   "cell_type": "code",
   "execution_count": 1,
   "metadata": {},
   "outputs": [
    {
     "name": "stdout",
     "output_type": "stream",
     "text": [
      "[(0, 0), (0, 1), (0, 2), (0, 3), (1, 0), (1, 1), (1, 2), (1, 3), (2, 0), (2, 1), (2, 2), (2, 3)]\n",
      "[0, 4, 16]\n"
     ]
    }
   ],
   "source": [
    "# 1\n",
    "ans = []\n",
    "for i in range(3):\n",
    "    for j in range(4):\n",
    "        ans.append((i, j))\n",
    "print (ans)\n",
    "\n",
    "# 2\n",
    "ans = map(lambda x: x*x, filter(lambda x: x%2 == 0, range(5)))\n",
    "print (list(ans))\n",
    "\n"
   ]
  },
  {
   "cell_type": "code",
   "execution_count": 3,
   "metadata": {},
   "outputs": [
    {
     "name": "stdout",
     "output_type": "stream",
     "text": [
      "[(0, 0), (0, 1), (0, 2), (0, 3), (1, 0), (1, 1), (1, 2), (1, 3), (2, 0), (2, 1), (2, 2), (2, 3)]\n",
      "[0, 4, 16]\n"
     ]
    }
   ],
   "source": [
    "print([(x,y) for x in range(3) for y in range(4)])\n",
    "print([(x*x) for x in filter(lambda x: x%2 == 0, range(5))])"
   ]
  },
  {
   "cell_type": "markdown",
   "metadata": {},
   "source": [
    "2\\. Convert the following function into a pure function with no global variables or side effects"
   ]
  },
  {
   "cell_type": "code",
   "execution_count": 4,
   "metadata": {},
   "outputs": [
    {
     "name": "stdout",
     "output_type": "stream",
     "text": [
      "[1, 2, 3, 0, 1, 2, 3, 4]\n",
      "[1, 2, 3, 0, 1, 2, 3, 4]\n"
     ]
    }
   ],
   "source": [
    "x = 5\n",
    "def f(alist):\n",
    "    for i in range(x):\n",
    "        alist.append(i)\n",
    "    return alist\n",
    "\n",
    "alist = [1,2,3]\n",
    "ans = f(alist)\n",
    "print (ans)\n",
    "print (alist) # alist has been changed!"
   ]
  },
  {
   "cell_type": "code",
   "execution_count": 8,
   "metadata": {},
   "outputs": [
    {
     "name": "stdout",
     "output_type": "stream",
     "text": [
      "[1, 2, 3, 0, 1, 2, 3, 4]\n",
      "[1, 2, 3]\n"
     ]
    }
   ],
   "source": [
    "x = 5\n",
    "def f(alist):\n",
    "    return alist+[i for i in range(x)]\n",
    "\n",
    "alist = [1,2,3]\n",
    "ans = f(alist)\n",
    "print (ans)\n",
    "print (alist)"
   ]
  },
  {
   "cell_type": "markdown",
   "metadata": {},
   "source": [
    "3\\. Write a `decorator` hello that makes every wrapped function print “Hello!”, i.e. something like:\n",
    "\n",
    "```python\n",
    "@hello\n",
    "def square(x):\n",
    "    return x*x\n",
    "```\n",
    "\n"
   ]
  },
  {
   "cell_type": "code",
   "execution_count": 20,
   "metadata": {},
   "outputs": [
    {
     "name": "stdout",
     "output_type": "stream",
     "text": [
      "Hello!\n",
      "9\n"
     ]
    }
   ],
   "source": [
    "def square(x):\n",
    "    return x*x\n",
    "def dec(f):\n",
    "    def wrapper(arg):\n",
    "        print(\"Hello!\")\n",
    "        print(f(arg))\n",
    "    return wrapper\n",
    "square=dec(square)        \n",
    "square(3)"
   ]
  },
  {
   "cell_type": "markdown",
   "metadata": {},
   "source": [
    "4\\. Write the factorial function so that it a) does and b) does not use recursion."
   ]
  },
  {
   "cell_type": "code",
   "execution_count": 30,
   "metadata": {},
   "outputs": [
    {
     "name": "stdout",
     "output_type": "stream",
     "text": [
      "24\n",
      "24\n"
     ]
    }
   ],
   "source": [
    "def fact1(x):\n",
    "    if x<0:\n",
    "        return\n",
    "    if x==0:\n",
    "        return 1\n",
    "    return x*fact1(x-1)\n",
    "\n",
    "def fact2(x):\n",
    "    c=1\n",
    "    if x<0:\n",
    "        return\n",
    "    if x<=1:\n",
    "        return c\n",
    "    for i in range(2,x+1):\n",
    "        c=c*i\n",
    "    return c\n",
    "\n",
    "print(fact1(4))\n",
    "print(fact2(4))"
   ]
  },
  {
   "cell_type": "markdown",
   "metadata": {},
   "source": [
    "5\\. Use HOFs (zip in particular) to compute the weight of a circle, a disk and a sphere, assuming different radii and different densities:\n",
    "\n",
    "```python\n",
    "densities = {\"Al\":[0.5,1,2],\"Fe\":[3,4,5],\"Pb\": [15,20,30]}\n",
    "radii = [1,2,3]\n",
    "```\n",
    "\n",
    "where the entries of the dictionary's values are the linear, superficial and volumetric densities of the materials respectively.\n",
    "\n",
    "In particular define a list of three lambda functions using a comprehension that computes the circumference, the area and the volume for a given radius.\n"
   ]
  },
  {
   "cell_type": "code",
   "execution_count": 81,
   "metadata": {},
   "outputs": [
    {
     "name": "stdout",
     "output_type": "stream",
     "text": [
      "3.141592653589793\n",
      "[[6.283185307179586, 12.566370614359172, 18.84955592153876], [3.141592653589793, 12.566370614359172, 28.274333882308138], [4.1887902047863905, 33.510321638291124, 113.09733552923255]]\n",
      "[[3.141592653589793, 6.283185307179586, 9.42477796076938], [18.84955592153876, 37.69911184307752, 56.548667764616276], [94.24777960769379, 188.49555921538757, 282.7433388230814], [3.141592653589793, 12.566370614359172, 28.274333882308138], [12.566370614359172, 50.26548245743669, 113.09733552923255], [62.83185307179586, 251.32741228718345, 565.4866776461628], [8.377580409572781, 67.02064327658225, 226.1946710584651], [20.94395102393195, 167.5516081914556, 565.4866776461628], [125.66370614359171, 1005.3096491487337, 3392.9200658769764]]\n",
      "Radius:  1  Weight:  (([3.141592653589793, 6.283185307179586, 9.42477796076938],), ([3.141592653589793, 12.566370614359172, 28.274333882308138],), ([8.377580409572781, 67.02064327658225, 226.1946710584651],))\n",
      "Radius:  2  Weight:  (([18.84955592153876, 37.69911184307752, 56.548667764616276],), ([12.566370614359172, 50.26548245743669, 113.09733552923255],), ([20.94395102393195, 167.5516081914556, 565.4866776461628],))\n",
      "Radius:  3  Weight:  (([94.24777960769379, 188.49555921538757, 282.7433388230814],), ([62.83185307179586, 251.32741228718345, 565.4866776461628],), ([125.66370614359171, 1005.3096491487337, 3392.9200658769764],))\n"
     ]
    }
   ],
   "source": [
    "import math\n",
    "\n",
    "densities = {\"Al\":[0.5,1,2],\"Fe\":[3,4,5],\"Pb\": [15,20,30]}\n",
    "radii = [1,2,3]\n",
    "#Circle: density*2PI*radius\n",
    "#Disk: density*PI*radius*radius\n",
    "#Sphere: density*4/3*PI*radius^3\n",
    "dimensions=[list(map(lambda x: (math.pi)*x*2, radii)), list(map(lambda x: (math.pi)*x*x, radii)), list(map(lambda x: (math.pi)*x*x*x*4/3,radii))]\n",
    "print(math.pi)\n",
    "print(dimensions)\n",
    "weights=[[densities[k][i]*dimensions[i][j] for j in range(3)] for i in range(3) for k in densities]\n",
    "print(weights)\n",
    "circles=list(zip(weights[i] for i in range(3)))\n",
    "disks=list(zip(weights[i] for i in range(3,6)))\n",
    "sphere=list(zip(weights[i] for i in range(6,9)))\n",
    "final=list(zip(circles, disks, sphere))\n",
    "i=1\n",
    "for x in final:\n",
    "    print(\"Radius: \", i, \" Weight: \", x ) #Stampa il peso ((cerchio Al, cerchio Fe, cerchio Pb), (disco Al, disco Fe, disco Pb), (cer Al, cerchio Fe, cerchio Pb))\n",
    "    i+=1\n",
    "\n",
    "    \n"
   ]
  },
  {
   "cell_type": "markdown",
   "metadata": {},
   "source": [
    "6\\. Edit the class defintion to add an instance attribute of is_hungry = True to the Dog class. Then add a method called eat() which changes the value of is_hungry to False when called. Figure out the best way to feed each dog and then output “My dogs are hungry.” if all are hungry or “My dogs are not hungry.” if all are not hungry. The final output should look like this:\n",
    "\n",
    "`I have 3 dogs. \n",
    "Tom is 6. \n",
    "Fletcher is 7. \n",
    "Larry is 9. \n",
    "And they're all mammals, of course. \n",
    "My dogs are not hungry.\n",
    "`\n",
    "\n",
    "```python\n",
    "# Parent class\n",
    "class Dog:\n",
    "\n",
    "    # Class attribute\n",
    "    species = 'mammal'\n",
    "\n",
    "    # Initializer / Instance attributes\n",
    "    def __init__(self, name, age):\n",
    "        self.name = name\n",
    "        self.age = age\n",
    "\n",
    "    # instance method\n",
    "    def description(self):\n",
    "        return \"{} is {} years old\".format(self.name, self.age)\n",
    "\n",
    "    # instance method\n",
    "    def speak(self, sound):\n",
    "        return \"{} says {}\".format(self.name, sound)\n",
    "\n",
    "# Child class (inherits from Dog class)\n",
    "class RussellTerrier(Dog):\n",
    "    def run(self, speed):\n",
    "        return \"{} runs {}\".format(self.name, speed)\n",
    "\n",
    "# Child class (inherits from Dog class)\n",
    "class Bulldog(Dog):\n",
    "    def run(self, speed):\n",
    "        return \"{} runs {}\".format(self.name, speed)\n",
    "```"
   ]
  },
  {
   "cell_type": "code",
   "execution_count": null,
   "metadata": {},
   "outputs": [],
   "source": []
  }
 ],
 "metadata": {
  "kernelspec": {
   "display_name": "Python 3",
   "language": "python",
   "name": "python3"
  },
  "language_info": {
   "codemirror_mode": {
    "name": "ipython",
    "version": 3
   },
   "file_extension": ".py",
   "mimetype": "text/x-python",
   "name": "python",
   "nbconvert_exporter": "python",
   "pygments_lexer": "ipython3",
   "version": "3.7.0"
  }
 },
 "nbformat": 4,
 "nbformat_minor": 2
}
