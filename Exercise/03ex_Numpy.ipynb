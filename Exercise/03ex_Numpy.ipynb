{
 "cells": [
  {
   "cell_type": "markdown",
   "metadata": {},
   "source": [
    "### Numpy basics"
   ]
  },
  {
   "cell_type": "markdown",
   "metadata": {},
   "source": [
    "1\\. Find the row, column and overall means for the following matrix:\n",
    "\n",
    "```python\n",
    "m = np.arange(12).reshape((3,4))\n",
    "```"
   ]
  },
  {
   "cell_type": "code",
   "execution_count": 1,
   "metadata": {},
   "outputs": [
    {
     "name": "stdout",
     "output_type": "stream",
     "text": [
      "Raw mean: \n",
      " [[1.5]\n",
      " [5.5]\n",
      " [9.5]]\n",
      "Column mean: \n",
      " [[4. 5. 6. 7.]]\n",
      "Overall mean: \n",
      " [[5.5]]\n"
     ]
    }
   ],
   "source": [
    "import numpy as np\n",
    "\n",
    "m = np.arange(12).reshape((3,4))\n",
    "etvecraw = np.ones((4,1))\n",
    "etveccul = np.ones((1,3))\n",
    "raw_mean = (m.dot(etvecraw))/4\n",
    "column_mean = (etveccul.dot(m))/3\n",
    "overal_mean = (etveccul.dot(raw_mean*4))/12\n",
    "\n",
    "print(\"Raw mean: \\n\",raw_mean)\n",
    "print(\"Column mean: \\n\",column_mean)\n",
    "print(\"Overall mean: \\n\",overal_mean)"
   ]
  },
  {
   "cell_type": "markdown",
   "metadata": {},
   "source": [
    "2\\. Find the outer product of the following two vecotrs\n",
    "\n",
    "```python\n",
    "u = np.array([1,3,5,7])\n",
    "v = np.array([2,4,6,8])\n",
    "```\n",
    "\n",
    "Do this in the following ways:\n",
    "\n",
    "   * Using the function outer in numpy\n",
    "   * Using a nested for loop or list comprehension\n",
    "   * Using numpy broadcasting operatoins\n"
   ]
  },
  {
   "cell_type": "code",
   "execution_count": 2,
   "metadata": {},
   "outputs": [
    {
     "name": "stdout",
     "output_type": "stream",
     "text": [
      "Outer function:\n",
      " [[ 2  4  6  8]\n",
      " [ 6 12 18 24]\n",
      " [10 20 30 40]\n",
      " [14 28 42 56]]\n",
      "\\Dot function:\n",
      " [[ 2  4  6  8]\n",
      " [ 6 12 18 24]\n",
      " [10 20 30 40]\n",
      " [14 28 42 56]]\n",
      "\n",
      "Nested for loop:\n",
      " [[ 2.  4.  6.  8.]\n",
      " [ 6. 12. 18. 24.]\n",
      " [10. 20. 30. 40.]\n",
      " [14. 28. 42. 56.]]\n"
     ]
    }
   ],
   "source": [
    "u = np.array([1,3,5,7])\n",
    "v = np.array([2,4,6,8])\n",
    "outp=np.zeros((4,4))\n",
    "\n",
    "for i in range(4):\n",
    "    for j in range(4):\n",
    "        outp[i,j]=u[i]*v[j]\n",
    "        \n",
    "print (\"Outer function:\\n\",np.outer(u,v))\n",
    "print (\"\\Dot function:\\n\", u.reshape(4,1).dot(v.reshape(1,4)))\n",
    "print (\"\\nNested for loop:\\n\", outp)"
   ]
  },
  {
   "cell_type": "markdown",
   "metadata": {},
   "source": [
    "3\\. Create a 10 by 6 matrix of random uniform numbers. Set all rows with any entry less than 0.1 to be zero\n",
    "\n",
    "Hint: Use the following numpy functions - np.random.random, np.any as well as Boolean indexing and the axis argument."
   ]
  },
  {
   "cell_type": "code",
   "execution_count": 12,
   "metadata": {},
   "outputs": [
    {
     "name": "stdout",
     "output_type": "stream",
     "text": [
      "Original matrix:\n",
      " [[0.02925826 0.72915404 0.90681907 0.12331195 0.562439   0.34780432]\n",
      " [0.02142575 0.28940101 0.62354413 0.84542606 0.6736648  0.37097006]\n",
      " [0.40659376 0.92475006 0.82170716 0.96866868 0.83663129 0.77793233]\n",
      " [0.2515816  0.8229056  0.41185016 0.17088401 0.53935599 0.23930688]\n",
      " [0.83667384 0.77965514 0.7946337  0.09559228 0.0306938  0.5016702 ]\n",
      " [0.62892325 0.68629892 0.44281158 0.46139622 0.66582248 0.71202882]\n",
      " [0.33515763 0.49402429 0.81467834 0.29873631 0.43124312 0.8258724 ]\n",
      " [0.84185506 0.96020901 0.94816514 0.30922103 0.91230694 0.54763103]\n",
      " [0.79249652 0.76620514 0.83641042 0.43499631 0.91985285 0.23943254]\n",
      " [0.1958895  0.59813645 0.60497683 0.38896802 0.89901995 0.46732529]]\n",
      "Modified matrix:\n",
      " [[0.         0.72915404 0.90681907 0.12331195 0.562439   0.34780432]\n",
      " [0.         0.28940101 0.62354413 0.84542606 0.6736648  0.37097006]\n",
      " [0.40659376 0.92475006 0.82170716 0.96866868 0.83663129 0.77793233]\n",
      " [0.2515816  0.8229056  0.41185016 0.17088401 0.53935599 0.23930688]\n",
      " [0.83667384 0.77965514 0.7946337  0.         0.         0.5016702 ]\n",
      " [0.62892325 0.68629892 0.44281158 0.46139622 0.66582248 0.71202882]\n",
      " [0.33515763 0.49402429 0.81467834 0.29873631 0.43124312 0.8258724 ]\n",
      " [0.84185506 0.96020901 0.94816514 0.30922103 0.91230694 0.54763103]\n",
      " [0.79249652 0.76620514 0.83641042 0.43499631 0.91985285 0.23943254]\n",
      " [0.1958895  0.59813645 0.60497683 0.38896802 0.89901995 0.46732529]]\n"
     ]
    }
   ],
   "source": [
    "ran = np.random.random((10, 6))\n",
    "print('Original matrix:\\n',ran)\n",
    "\n",
    "ran[ran < 0.1] = 0.0\n",
    "print('Modified matrix:\\n',ran)"
   ]
  },
  {
   "cell_type": "markdown",
   "metadata": {},
   "source": [
    "4\\. Use np.linspace to create an array of 100 numbers between 0 and 2π (includsive).\n",
    "\n",
    "  * Extract every 10th element using slice notation\n",
    "  * Reverse the array using slice notation\n",
    "  * Extract elements where the absolute difference between the sine and cosine functions evaluated at that element is less than 0.1\n",
    "  * Make a plot showing the sin and cos functions and indicate where they are close"
   ]
  },
  {
   "cell_type": "code",
   "execution_count": 62,
   "metadata": {},
   "outputs": [
    {
     "name": "stdout",
     "output_type": "stream",
     "text": [
      "Original matrix:\n",
      " [0.         0.06346652 0.12693304 0.19039955 0.25386607 0.31733259\n",
      " 0.38079911 0.44426563 0.50773215 0.57119866 0.63466518 0.6981317\n",
      " 0.76159822 0.82506474 0.88853126 0.95199777 1.01546429 1.07893081\n",
      " 1.14239733 1.20586385 1.26933037 1.33279688 1.3962634  1.45972992\n",
      " 1.52319644 1.58666296 1.65012947 1.71359599 1.77706251 1.84052903\n",
      " 1.90399555 1.96746207 2.03092858 2.0943951  2.15786162 2.22132814\n",
      " 2.28479466 2.34826118 2.41172769 2.47519421 2.53866073 2.60212725\n",
      " 2.66559377 2.72906028 2.7925268  2.85599332 2.91945984 2.98292636\n",
      " 3.04639288 3.10985939 3.17332591 3.23679243 3.30025895 3.36372547\n",
      " 3.42719199 3.4906585  3.55412502 3.61759154 3.68105806 3.74452458\n",
      " 3.8079911  3.87145761 3.93492413 3.99839065 4.06185717 4.12532369\n",
      " 4.1887902  4.25225672 4.31572324 4.37918976 4.44265628 4.5061228\n",
      " 4.56958931 4.63305583 4.69652235 4.75998887 4.82345539 4.88692191\n",
      " 4.95038842 5.01385494 5.07732146 5.14078798 5.2042545  5.26772102\n",
      " 5.33118753 5.39465405 5.45812057 5.52158709 5.58505361 5.64852012\n",
      " 5.71198664 5.77545316 5.83891968 5.9023862  5.96585272 6.02931923\n",
      " 6.09278575 6.15625227 6.21971879 6.28318531]\n",
      "\n",
      "10 multiple's elements:\n",
      " [0.         0.63466518 1.26933037 1.90399555 2.53866073 3.17332591\n",
      " 3.8079911  4.44265628 5.07732146 5.71198664]\n",
      "\n",
      "Reversed matrix:\n",
      " [6.28318531 6.21971879 6.15625227 6.09278575 6.02931923 5.96585272\n",
      " 5.9023862  5.83891968 5.77545316 5.71198664 5.64852012 5.58505361\n",
      " 5.52158709 5.45812057 5.39465405 5.33118753 5.26772102 5.2042545\n",
      " 5.14078798 5.07732146 5.01385494 4.95038842 4.88692191 4.82345539\n",
      " 4.75998887 4.69652235 4.63305583 4.56958931 4.5061228  4.44265628\n",
      " 4.37918976 4.31572324 4.25225672 4.1887902  4.12532369 4.06185717\n",
      " 3.99839065 3.93492413 3.87145761 3.8079911  3.74452458 3.68105806\n",
      " 3.61759154 3.55412502 3.4906585  3.42719199 3.36372547 3.30025895\n",
      " 3.23679243 3.17332591 3.10985939 3.04639288 2.98292636 2.91945984\n",
      " 2.85599332 2.7925268  2.72906028 2.66559377 2.60212725 2.53866073\n",
      " 2.47519421 2.41172769 2.34826118 2.28479466 2.22132814 2.15786162\n",
      " 2.0943951  2.03092858 1.96746207 1.90399555 1.84052903 1.77706251\n",
      " 1.71359599 1.65012947 1.58666296 1.52319644 1.45972992 1.3962634\n",
      " 1.33279688 1.26933037 1.20586385 1.14239733 1.07893081 1.01546429\n",
      " 0.95199777 0.88853126 0.82506474 0.76159822 0.6981317  0.63466518\n",
      " 0.57119866 0.50773215 0.44426563 0.38079911 0.31733259 0.25386607\n",
      " 0.19039955 0.12693304 0.06346652 0.        ]\n",
      "\n",
      "|Sin-Cos|<0.1 elements:\n",
      " [0.76159822 0.82506474 3.87145761 3.93492413]\n"
     ]
    },
    {
     "data": {
      "image/png": "[encoded data removed]",
      "text/plain": [
       "<Figure size 432x288 with 1 Axes>"
      ]
     },
     "metadata": {
      "needs_background": "light"
     },
     "output_type": "display_data"
    }
   ],
   "source": [
    "import matplotlib.pyplot as plt\n",
    "\n",
    "twoPi = 2*np.pi\n",
    "v = np.linspace(0, twoPi, 100)\n",
    "print('Original matrix:\\n', v)\n",
    "\n",
    "v10 = v[::10]\n",
    "print(\"\\n10 multiple's elements:\\n\", v10)\n",
    "\n",
    "vRev = v[::-1]\n",
    "print(\"\\nReversed matrix:\\n\", vRev)\n",
    "\n",
    "vSinCos = v[abs(np.sin(v)-np.cos(v)) < 0.1]\n",
    "print(\"\\n|Sin-Cos|<0.1 elements:\\n\", vSinCos)\n",
    "\n",
    "\n",
    "\n",
    "plt.plot(v, np.cos(v))\n",
    "plt.plot(v, np.sin(v))\n",
    "#Shows the point found in the last vector\n",
    "plt.plot(vSinCos, np.cos(vSinCos), 'r.')\n",
    "plt.plot(vSinCos, np.sin(vSinCos), 'r.')\n",
    "plt.show()"
   ]
  },
  {
   "cell_type": "markdown",
   "metadata": {},
   "source": [
    "5\\. Create a matrix that shows the 10 by 10 multiplication table.\n",
    "\n",
    " * Find the trace of the matrix\n",
    " * Extract the anto-diagonal (this should be ```array([10, 18, 24, 28, 30, 30, 28, 24, 18, 10])```)\n",
    " * Extract the diagnoal offset by 1 upwards (this should be ```array([ 2,  6, 12, 20, 30, 42, 56, 72, 90])```)"
   ]
  },
  {
   "cell_type": "code",
   "execution_count": 65,
   "metadata": {},
   "outputs": [
    {
     "name": "stdout",
     "output_type": "stream",
     "text": [
      "Multiplication table matrix:\n",
      " [[  1   2   3   4   5   6   7   8   9  10]\n",
      " [  2   4   6   8  10  12  14  16  18  20]\n",
      " [  3   6   9  12  15  18  21  24  27  30]\n",
      " [  4   8  12  16  20  24  28  32  36  40]\n",
      " [  5  10  15  20  25  30  35  40  45  50]\n",
      " [  6  12  18  24  30  36  42  48  54  60]\n",
      " [  7  14  21  28  35  42  49  56  63  70]\n",
      " [  8  16  24  32  40  48  56  64  72  80]\n",
      " [  9  18  27  36  45  54  63  72  81  90]\n",
      " [ 10  20  30  40  50  60  70  80  90 100]]\n",
      "\n",
      "Trace: 385\n",
      "Anto-diag: [10 18 24 28 30 30 28 24 18 10]\n",
      "Diagonal with offset: [90 72 56 42 30 20 12  6  2]\n"
     ]
    }
   ],
   "source": [
    "mt = np.array([[x*y for x in range(1, 11)] for y in range(1, 11)])\n",
    "print('Multiplication table matrix:\\n', mt)\n",
    "\n",
    "tr = np.sum(np.diag(mt))\n",
    "print('\\nTrace:', tr)\n",
    "\n",
    "antDiag =np.diag(mt[::-1])\n",
    "print('Anto-diag:', antDiag)\n",
    "\n",
    "offDiag = np.array([mt[x, x+1] for x in range(9)])[::-1]\n",
    "print('Diagonal with offset:', offDiag)"
   ]
  },
  {
   "cell_type": "markdown",
   "metadata": {},
   "source": [
    "6\\. Use broadcasting to create a grid of distances\n",
    "\n",
    "Route 66 crosses the following cities in the US: Chicago, Springfield, Saint-Louis, Tulsa, Oklahoma City, Amarillo, Santa Fe, Albuquerque, Flagstaff, Los Angeles\n",
    "The corresponding positions in miles are: 0, 198, 303, 736, 871, 1175, 1475, 1544, 1913, 2448\n",
    "\n",
    "  * Construct a 2D grid of distances among each city along Route 66\n",
    "  * Convert that in km (those savages...)"
   ]
  },
  {
   "cell_type": "code",
   "execution_count": 119,
   "metadata": {},
   "outputs": [
    {
     "name": "stdout",
     "output_type": "stream",
     "text": [
      "Distance between cities in retard unit:\n",
      " [[   0  198  303  736  871 1175 1475 1544 1913 2448]\n",
      " [ 198    0  105  538  673  977 1277 1346 1715 2250]\n",
      " [ 303  105    0  433  568  872 1172 1241 1610 2145]\n",
      " [ 736  538  433    0  135  439  739  808 1177 1712]\n",
      " [ 871  673  568  135    0  304  604  673 1042 1577]\n",
      " [1175  977  872  439  304    0  300  369  738 1273]\n",
      " [1475 1277 1172  739  604  300    0   69  438  973]\n",
      " [1544 1346 1241  808  673  369   69    0  369  904]\n",
      " [1913 1715 1610 1177 1042  738  438  369    0  535]\n",
      " [2448 2250 2145 1712 1577 1273  973  904  535    0]]\n",
      "\n",
      "Distance between cities in Km:\n",
      " [[   0  318  487 1184 1401 1890 2373 2484 3078 3939]\n",
      " [ 318    0  168  865 1083 1572 2055 2166 2760 3621]\n",
      " [ 487  168    0  696  914 1403 1886 1997 2591 3452]\n",
      " [1184  865  696    0  217  706 1189 1300 1894 2755]\n",
      " [1401 1083  914  217    0  489  972 1083 1676 2537]\n",
      " [1890 1572 1403  706  489    0  482  593 1187 2048]\n",
      " [2373 2055 1886 1189  972  482    0  111  704 1565]\n",
      " [2484 2166 1997 1300 1083  593  111    0  593 1454]\n",
      " [3078 2760 2591 1894 1676 1187  704  593    0  860]\n",
      " [3939 3621 3452 2755 2537 2048 1565 1454  860    0]]\n"
     ]
    }
   ],
   "source": [
    "m2K = 1.609344\n",
    "milesPos = np.array([0, 198, 303,736, 871, 1175, 1475, 1544, 1913, 2448])\n",
    "cities = np.array(['Chicago', 'Springfield', 'Saint-Louis', 'Tulsa', 'Oklahoma City', 'Amarillo', 'Santa Fe', 'Albuquerque', 'Flagstaff', 'Los Angeles'])\n",
    "\n",
    "dist =abs(np.tile(milesPos, (np.shape(milesPos)[0], 1)).T-milesPos)\n",
    "print('Distance between cities in retard unit:\\n', dist)\n",
    "\n",
    "distKm = (dist*m2K).astype(int)\n",
    "print('\\nDistance between cities in Km:\\n', distKm)\n",
    "\n"
   ]
  },
  {
   "cell_type": "markdown",
   "metadata": {},
   "source": [
    "7\\. Prime numbers sieve: compute the prime numbers in the 0-N (N=99 to start with) range with a sieve (mask).\n",
    "  * Constract a shape (100,) boolean array, the mask\n",
    "  * Identify the multiples of each number starting from 2 and set accordingly the corresponding mask element\n",
    "  * Apply the mask to obtain an array of ordered prime numbers\n",
    "  * Check the performances (timeit); how does it scale with N?\n",
    "  * Implement the optimization suggested in the [sieve of Eratosthenes](https://en.wikipedia.org/wiki/Sieve_of_Eratosthenes)"
   ]
  },
  {
   "cell_type": "code",
   "execution_count": 171,
   "metadata": {},
   "outputs": [
    {
     "name": "stdout",
     "output_type": "stream",
     "text": [
      "First 99 prime numbers: [ 1  2  3  5  7 11 13 17 19 23 29 31 37 41 43 47 53 59 61 67 71 73 79 83\n",
      " 89 97]\n",
      "\n",
      "Running time: 0.0030000209808349609 sec\n",
      "\n",
      "Eratosthenes's method [ 1  2  3  5  7 11 13 17 19 23 29 31 37 41 43 47 53 59 61 67 71 73 79 83\n",
      " 89 97]\n",
      "\n",
      "Running time: 0.0009999275207519531 sec\n",
      "\n"
     ]
    }
   ],
   "source": [
    "import time\n",
    "\n",
    "N=99\n",
    "num = np.arange(N)\n",
    "mask = np.array([True for x in range(N)])\n",
    "\n",
    "temp = time.time()\n",
    "for i in range(2, N):\n",
    "    mask = np.logical_and(mask, np.logical_or(num == i, num%i !=0))\n",
    "temp = time.time()-temp    \n",
    "    \n",
    "prime = num[mask]\n",
    "print('First', N, 'prime numbers:', prime)\n",
    "print('\\nRunning time:', '%.19f' % temp, 'sec\\n')\n",
    "\n",
    "flag = True\n",
    "p = 2\n",
    "i = 2\n",
    "primeEra = num\n",
    "\n",
    "temp = time.time()\n",
    "while flag:\n",
    "    primeEra = primeEra[np.logical_or(primeEra == p, primeEra%p !=0)] \n",
    "    p = primeEra[i]\n",
    "    i = i+1\n",
    "    flag = i<primeEra.shape[0]\n",
    "temp = time.time()-temp\n",
    "\n",
    "print(\"Eratosthenes's method\", primeEra)\n",
    "print('\\nRunning time:', '%.19f' % temp, 'sec\\n')"
   ]
  },
  {
   "cell_type": "markdown",
   "metadata": {},
   "source": [
    "8\\. Diffusion using random walk\n",
    "\n",
    "Consider a simple random walk process: at each step in time, a walker jumps right or left (+1 or -1) with equal probability. The goal is to find the typical distance from the origin of a random walker after a given amount of time. \n",
    "To do that, let's simulate many walkers and create a 2D array with each walker as a raw and the actual time evolution as columns\n",
    "\n",
    "  * Take 1000 walkers and let them walk for 200 steps\n",
    "  * Use randint to create a 2D array of size walkers x steps with values -1 or 1\n",
    "  * Build the actual walking distances for each walker (i.e. another 2D array \"summing on each raw\")\n",
    "  * Take the square of that 2D array (elementwise)\n",
    "  * Compute the mean of the squared distances at each step (i.e. the mean along the columns)\n",
    "  * Plot the average distances (sqrt(distance\\*\\*2)) as a function of time (step)\n",
    "  \n",
    "Did you get what you expected?"
   ]
  },
  {
   "cell_type": "code",
   "execution_count": 206,
   "metadata": {},
   "outputs": [
    {
     "name": "stdout",
     "output_type": "stream",
     "text": [
      "Step:\n",
      " [[-1 -1  1 ...  1  1 -1]\n",
      " [ 1  1 -1 ... -1  1  1]\n",
      " [-1  1 -1 ...  1  1 -1]\n",
      " ...\n",
      " [ 1 -1 -1 ... -1 -1  1]\n",
      " [ 1 -1  1 ... -1  1  1]\n",
      " [ 1  1  1 ...  1 -1  1]]\n",
      "\n",
      "Progressive distance:\n",
      " [[-1 -2 -1 ... 26 27 26]\n",
      " [ 1  2  1 ...  6  7  8]\n",
      " [-1  0 -1 ... -4 -3 -4]\n",
      " ...\n",
      " [ 1  0 -1 ... -6 -7 -6]\n",
      " [ 1  0  1 ...  0  1  2]\n",
      " [ 1  2  3 ... 22 21 22]]\n"
     ]
    },
    {
     "data": {
      "image/png": "[encoded data removed]",
      "text/plain": [
       "<Figure size 432x288 with 1 Axes>"
      ]
     },
     "metadata": {
      "needs_background": "light"
     },
     "output_type": "display_data"
    }
   ],
   "source": [
    "import matplotlib.pyplot as plt\n",
    "\n",
    "walk = np.random.randint(0, 2, size=(1000, 200))\n",
    "walk[walk == 0] = -1\n",
    "print('Step:\\n', walk)\n",
    "\n",
    "dist = np.cumsum(walk, axis=1)\n",
    "print('\\nProgressive distance:\\n', dist)\n",
    "\n",
    "distSquare = dist**2\n",
    "mean = np.sum(distSquare, axis=0)/dist.shape[0]\n",
    "plt.plot(np.arange(1,201), mean**1/2)\n",
    "plt.xlabel('Step')\n",
    "plt.ylabel('Distance')\n",
    "plt.show()"
   ]
  },
  {
   "cell_type": "markdown",
   "metadata": {},
   "source": [
    "9\\. Analyze a data file \n",
    "  * Download the population of hares, lynxes and carrots at the beginning of the last century.\n",
    "    ```python\n",
    "    ! wget https://www.dropbox.com/s/3vigxoqayo389uc/populations.txt\n",
    "    ```\n",
    "\n",
    "  * Check the content by looking within the file\n",
    "  * Load the data (use an appropriate numpy method) into a 2D array\n",
    "  * Create arrays out of the columns, the arrays being (in order): *year*, *hares*, *lynxes*, *carrots* \n",
    "  * Plot the 3 populations over the years\n",
    "  * Compute the main statistical properties of the dataset (mean, std, correlations, etc.)\n",
    "  * Which species has the highest population each year?\n",
    "\n",
    "Do you feel there is some evident correlation here? [Studies](https://www.enr.gov.nt.ca/en/services/lynx/lynx-snowshoe-hare-cycle) tend to believe so."
   ]
  },
  {
   "cell_type": "code",
   "execution_count": null,
   "metadata": {
    "collapsed": true
   },
   "outputs": [],
   "source": []
  }
 ],
 "metadata": {
  "kernelspec": {
   "display_name": "Python 3",
   "language": "python",
   "name": "python3"
  },
  "language_info": {
   "codemirror_mode": {
    "name": "ipython",
    "version": 3
   },
   "file_extension": ".py",
   "mimetype": "text/x-python",
   "name": "python",
   "nbconvert_exporter": "python",
   "pygments_lexer": "ipython3",
   "version": "3.7.0"
  }
 },
 "nbformat": 4,
 "nbformat_minor": 2
}
