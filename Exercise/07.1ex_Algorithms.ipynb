{
 "cells": [
  {
   "cell_type": "markdown",
   "metadata": {},
   "source": [
    "1\\. **PCA on 3D dataset**\n",
    "\n",
    "* Generate a dataset with 3 features each with N entries (N being ${\\cal O}(1000)$). With $N(\\mu,\\sigma)$ the normali distribution with mean $\\mu$ and $\\sigma$  standard deviation, generate the 3 variables $x_{1,2,3}$ such that:\n",
    "    * $x_1$ is distributed as $N(0,1)$\n",
    "    * $x_2$ is distributed as $x_1+N(0,3)$\n",
    "    * $x_3$ is given by $2x_1+x_2$\n",
    "* Find the eigenvectors and eigenvalues of the covariance matrix of the dataset\n",
    "* Find the eigenvectors and eigenvalues using SVD. Check that they are two procedure yields to same result\n",
    "* What percent of the total variability is explained by the principal components? Given how the dataset was constructed, do these make sense? Reduce the dimensionality of the system so that at least 99% of the total variability is retained.\n",
    "* Redefine the data in the basis yielded by the PCA procedure\n",
    "* Plot the data points in the original and the new coordiantes as a set of scatter plots. Your final figure should have 2 rows of 3 plots each, where the columns show the (0,1), (0,2) and (1,2) proejctions.\n"
   ]
  },
  {
   "cell_type": "code",
   "execution_count": 46,
   "metadata": {},
   "outputs": [
    {
     "name": "stdout",
     "output_type": "stream",
     "text": [
      "Covariance matrix:\n",
      "[[ 1.01834239  0.9814426   3.01812737]\n",
      " [ 0.9814426   9.92714427 11.89002947]\n",
      " [ 3.01812737 11.89002947 17.92628422]]\n",
      "\n",
      "Eigenvalues of the covariance matrix:\n",
      "[ 2.68261548e+01+0.j -1.39677753e-16+0.j  2.04561607e+00+0.j]\n",
      "\n",
      "Eigenvectors of the covariance matrix:\n",
      "[[-0.11652471 -0.81649658  0.56546912]\n",
      " [-0.57603069 -0.40824829 -0.70818216]\n",
      " [-0.80908012  0.40824829  0.42275608]]\n",
      "\n",
      "Eigenvalues of the covariance matrix SVD:\n",
      "[2.68722660e+01 2.04582376e+00 1.22269925e-31]\n",
      "\n",
      "Eigenvectors of the covariance matrix SVD:\n",
      "[[-0.11645416  0.56548365 -0.81649658]\n",
      " [-0.57611905 -0.70811029 -0.40824829]\n",
      " [-0.80902736  0.42285702  0.40824829]]\n"
     ]
    }
   ],
   "source": [
    "\n",
    "import numpy as np\n",
    "from scipy import linalg as la\n",
    "import matplotlib.pyplot as plt\n",
    "import pandas as pd\n",
    "%matplotlib inline\n",
    "\n",
    "N = 1000\n",
    "sigma2 = 3\n",
    "\n",
    "x1 = np.random.randn(N)\n",
    "x2 = x1+sigma2*np.random.randn(N)\n",
    "x3 = 2*x1+x2\n",
    "\n",
    "dtst = np.vstack((x1,x2,x3))\n",
    "\n",
    "\n",
    "covmat=np.cov(dtst)\n",
    "print(\"Covariance matrix:\")\n",
    "print(covmat)\n",
    "e, V = la.eig(covmat)\n",
    "print(\"\\nEigenvalues of the covariance matrix:\")\n",
    "print(e)\n",
    "print(\"\\nEigenvectors of the covariance matrix:\")\n",
    "print(V)\n",
    "\n",
    "U, S, Vt = la.svd(dtst)\n",
    "\n",
    "print(\"\\nEigenvalues of the covariance matrix SVD:\")\n",
    "print(S**2/(N-1))\n",
    "print(\"\\nEigenvectors of the covariance matrix SVD:\")\n",
    "print(U)"
   ]
  },
  {
   "cell_type": "markdown",
   "metadata": {},
   "source": [
    "2\\. **PCA on a nD dataset**\n",
    "\n",
    "Start from the dataset you have genereted in the previous exercise and add uncorrelated random noise. Such noise should be represented by other 10 uncorrelated variables normal distributed, with standar deviation much smaller (say, a factor 50) than those used to generate the $x_1$ and $x_2$.\n",
    "\n",
    "Repeat the PCA procedure and compare the results with what you obtained before"
   ]
  },
  {
   "cell_type": "markdown",
   "metadata": {},
   "source": [
    "3 \\. **Looking at an oscillating spring** (optional)\n",
    "\n",
    "Imagine you have $n$ cameras looking at a spring oscillating along the $x$ axis. Each  camera record the motion of the spring looking at it along a given direction defined by the pair $(\\theta_i, \\phi_i)$, the angles in spherical coordinates. \n",
    "\n",
    "Start from the simulation of the records (say ${\\cal O}(1000)$) of the spring's motion along the x axis, assuming a little random noise affects the measurements along the $y$. Rotate such dataset to emulate the records of each camera.\n",
    "\n",
    "Perform a Principal Component Analysis on the thus obtained dataset, aiming at finding the only one coordinate that really matters.\n"
   ]
  },
  {
   "cell_type": "markdown",
   "metadata": {},
   "source": [
    "4\\. **PCA on the MAGIC dataset** (optional)\n",
    "\n",
    "Perform a PCA on the magic04.data dataset"
   ]
  },
  {
   "cell_type": "code",
   "execution_count": null,
   "metadata": {
    "collapsed": true
   },
   "outputs": [],
   "source": []
  }
 ],
 "metadata": {
  "kernelspec": {
   "display_name": "Python 3",
   "language": "python",
   "name": "python3"
  },
  "language_info": {
   "codemirror_mode": {
    "name": "ipython",
    "version": 3
   },
   "file_extension": ".py",
   "mimetype": "text/x-python",
   "name": "python",
   "nbconvert_exporter": "python",
   "pygments_lexer": "ipython3",
   "version": "3.6.3"
  }
 },
 "nbformat": 4,
 "nbformat_minor": 2
}
